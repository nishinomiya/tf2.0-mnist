{
  "nbformat": 4,
  "nbformat_minor": 0,
  "metadata": {
    "colab": {
      "name": "mninst_tf2.ipynb",
      "provenance": [],
      "collapsed_sections": [],
      "include_colab_link": true
    },
    "kernelspec": {
      "name": "python3",
      "display_name": "Python 3"
    },
    "accelerator": "TPU"
  },
  "cells": [
    {
      "cell_type": "markdown",
      "metadata": {
        "id": "view-in-github",
        "colab_type": "text"
      },
      "source": [
        "<a href=\"https://colab.research.google.com/github/nishinomiya/tf2.0-mnist/blob/master/mninst_tf2.ipynb\" target=\"_parent\"><img src=\"https://colab.research.google.com/assets/colab-badge.svg\" alt=\"Open In Colab\"/></a>"
      ]
    },
    {
      "cell_type": "code",
      "metadata": {
        "id": "rUI53DuAnX_p",
        "colab_type": "code",
        "colab": {
          "base_uri": "https://localhost:8080/",
          "height": 1000
        },
        "outputId": "c10d5c4f-d7c0-486e-aad7-ae82da9d8454"
      },
      "source": [
        "!pip install tensorflow==2.0.0\n",
        "import tensorflow as tf"
      ],
      "execution_count": 1,
      "outputs": [
        {
          "output_type": "stream",
          "text": [
            "Collecting tensorflow==2.0.0\n",
            "\u001b[?25l  Downloading https://files.pythonhosted.org/packages/46/0f/7bd55361168bb32796b360ad15a25de6966c9c1beb58a8e30c01c8279862/tensorflow-2.0.0-cp36-cp36m-manylinux2010_x86_64.whl (86.3MB)\n",
            "\u001b[K     |████████████████████████████████| 86.3MB 38kB/s \n",
            "\u001b[?25hRequirement already satisfied: opt-einsum>=2.3.2 in /usr/local/lib/python3.6/dist-packages (from tensorflow==2.0.0) (3.1.0)\n",
            "Requirement already satisfied: six>=1.10.0 in /usr/local/lib/python3.6/dist-packages (from tensorflow==2.0.0) (1.12.0)\n",
            "Requirement already satisfied: protobuf>=3.6.1 in /usr/local/lib/python3.6/dist-packages (from tensorflow==2.0.0) (3.10.0)\n",
            "Requirement already satisfied: termcolor>=1.1.0 in /usr/local/lib/python3.6/dist-packages (from tensorflow==2.0.0) (1.1.0)\n",
            "Requirement already satisfied: wheel>=0.26 in /usr/local/lib/python3.6/dist-packages (from tensorflow==2.0.0) (0.33.6)\n",
            "Requirement already satisfied: wrapt>=1.11.1 in /usr/local/lib/python3.6/dist-packages (from tensorflow==2.0.0) (1.11.2)\n",
            "Requirement already satisfied: absl-py>=0.7.0 in /usr/local/lib/python3.6/dist-packages (from tensorflow==2.0.0) (0.8.1)\n",
            "Requirement already satisfied: numpy<2.0,>=1.16.0 in /usr/local/lib/python3.6/dist-packages (from tensorflow==2.0.0) (1.17.3)\n",
            "Collecting tensorboard<2.1.0,>=2.0.0\n",
            "\u001b[?25l  Downloading https://files.pythonhosted.org/packages/d3/9e/a48cd34dd7b672ffc227b566f7d16d63c62c58b542d54efa45848c395dd4/tensorboard-2.0.1-py3-none-any.whl (3.8MB)\n",
            "\u001b[K     |████████████████████████████████| 3.8MB 38.6MB/s \n",
            "\u001b[?25hCollecting tensorflow-estimator<2.1.0,>=2.0.0\n",
            "\u001b[?25l  Downloading https://files.pythonhosted.org/packages/fc/08/8b927337b7019c374719145d1dceba21a8bb909b93b1ad6f8fb7d22c1ca1/tensorflow_estimator-2.0.1-py2.py3-none-any.whl (449kB)\n",
            "\u001b[K     |████████████████████████████████| 450kB 39.2MB/s \n",
            "\u001b[?25hRequirement already satisfied: keras-applications>=1.0.8 in /usr/local/lib/python3.6/dist-packages (from tensorflow==2.0.0) (1.0.8)\n",
            "Requirement already satisfied: gast==0.2.2 in /usr/local/lib/python3.6/dist-packages (from tensorflow==2.0.0) (0.2.2)\n",
            "Requirement already satisfied: google-pasta>=0.1.6 in /usr/local/lib/python3.6/dist-packages (from tensorflow==2.0.0) (0.1.7)\n",
            "Requirement already satisfied: keras-preprocessing>=1.0.5 in /usr/local/lib/python3.6/dist-packages (from tensorflow==2.0.0) (1.1.0)\n",
            "Requirement already satisfied: astor>=0.6.0 in /usr/local/lib/python3.6/dist-packages (from tensorflow==2.0.0) (0.8.0)\n",
            "Requirement already satisfied: grpcio>=1.8.6 in /usr/local/lib/python3.6/dist-packages (from tensorflow==2.0.0) (1.15.0)\n",
            "Requirement already satisfied: setuptools in /usr/local/lib/python3.6/dist-packages (from protobuf>=3.6.1->tensorflow==2.0.0) (41.4.0)\n",
            "Requirement already satisfied: markdown>=2.6.8 in /usr/local/lib/python3.6/dist-packages (from tensorboard<2.1.0,>=2.0.0->tensorflow==2.0.0) (3.1.1)\n",
            "Requirement already satisfied: google-auth-oauthlib<0.5,>=0.4.1 in /usr/local/lib/python3.6/dist-packages (from tensorboard<2.1.0,>=2.0.0->tensorflow==2.0.0) (0.4.1)\n",
            "Requirement already satisfied: werkzeug>=0.11.15 in /usr/local/lib/python3.6/dist-packages (from tensorboard<2.1.0,>=2.0.0->tensorflow==2.0.0) (0.16.0)\n",
            "Collecting google-auth<2,>=1.6.3\n",
            "\u001b[?25l  Downloading https://files.pythonhosted.org/packages/c5/9b/ed0516cc1f7609fb0217e3057ff4f0f9f3e3ce79a369c6af4a6c5ca25664/google_auth-1.6.3-py2.py3-none-any.whl (73kB)\n",
            "\u001b[K     |████████████████████████████████| 81kB 9.3MB/s \n",
            "\u001b[?25hRequirement already satisfied: h5py in /usr/local/lib/python3.6/dist-packages (from keras-applications>=1.0.8->tensorflow==2.0.0) (2.8.0)\n",
            "Requirement already satisfied: requests-oauthlib>=0.7.0 in /usr/local/lib/python3.6/dist-packages (from google-auth-oauthlib<0.5,>=0.4.1->tensorboard<2.1.0,>=2.0.0->tensorflow==2.0.0) (1.2.0)\n",
            "Requirement already satisfied: cachetools>=2.0.0 in /usr/local/lib/python3.6/dist-packages (from google-auth<2,>=1.6.3->tensorboard<2.1.0,>=2.0.0->tensorflow==2.0.0) (3.1.1)\n",
            "Requirement already satisfied: rsa>=3.1.4 in /usr/local/lib/python3.6/dist-packages (from google-auth<2,>=1.6.3->tensorboard<2.1.0,>=2.0.0->tensorflow==2.0.0) (4.0)\n",
            "Requirement already satisfied: pyasn1-modules>=0.2.1 in /usr/local/lib/python3.6/dist-packages (from google-auth<2,>=1.6.3->tensorboard<2.1.0,>=2.0.0->tensorflow==2.0.0) (0.2.7)\n",
            "Requirement already satisfied: oauthlib>=3.0.0 in /usr/local/lib/python3.6/dist-packages (from requests-oauthlib>=0.7.0->google-auth-oauthlib<0.5,>=0.4.1->tensorboard<2.1.0,>=2.0.0->tensorflow==2.0.0) (3.1.0)\n",
            "Requirement already satisfied: requests>=2.0.0 in /usr/local/lib/python3.6/dist-packages (from requests-oauthlib>=0.7.0->google-auth-oauthlib<0.5,>=0.4.1->tensorboard<2.1.0,>=2.0.0->tensorflow==2.0.0) (2.21.0)\n",
            "Requirement already satisfied: pyasn1>=0.1.3 in /usr/local/lib/python3.6/dist-packages (from rsa>=3.1.4->google-auth<2,>=1.6.3->tensorboard<2.1.0,>=2.0.0->tensorflow==2.0.0) (0.4.7)\n",
            "Requirement already satisfied: chardet<3.1.0,>=3.0.2 in /usr/local/lib/python3.6/dist-packages (from requests>=2.0.0->requests-oauthlib>=0.7.0->google-auth-oauthlib<0.5,>=0.4.1->tensorboard<2.1.0,>=2.0.0->tensorflow==2.0.0) (3.0.4)\n",
            "Requirement already satisfied: urllib3<1.25,>=1.21.1 in /usr/local/lib/python3.6/dist-packages (from requests>=2.0.0->requests-oauthlib>=0.7.0->google-auth-oauthlib<0.5,>=0.4.1->tensorboard<2.1.0,>=2.0.0->tensorflow==2.0.0) (1.24.3)\n",
            "Requirement already satisfied: idna<2.9,>=2.5 in /usr/local/lib/python3.6/dist-packages (from requests>=2.0.0->requests-oauthlib>=0.7.0->google-auth-oauthlib<0.5,>=0.4.1->tensorboard<2.1.0,>=2.0.0->tensorflow==2.0.0) (2.8)\n",
            "Requirement already satisfied: certifi>=2017.4.17 in /usr/local/lib/python3.6/dist-packages (from requests>=2.0.0->requests-oauthlib>=0.7.0->google-auth-oauthlib<0.5,>=0.4.1->tensorboard<2.1.0,>=2.0.0->tensorflow==2.0.0) (2019.9.11)\n",
            "\u001b[31mERROR: tensorboard 2.0.1 has requirement grpcio>=1.24.3, but you'll have grpcio 1.15.0 which is incompatible.\u001b[0m\n",
            "\u001b[31mERROR: google-colab 1.0.0 has requirement google-auth~=1.4.0, but you'll have google-auth 1.6.3 which is incompatible.\u001b[0m\n",
            "Installing collected packages: google-auth, tensorboard, tensorflow-estimator, tensorflow\n",
            "  Found existing installation: google-auth 1.4.2\n",
            "    Uninstalling google-auth-1.4.2:\n",
            "      Successfully uninstalled google-auth-1.4.2\n",
            "  Found existing installation: tensorboard 1.15.0\n",
            "    Uninstalling tensorboard-1.15.0:\n",
            "      Successfully uninstalled tensorboard-1.15.0\n",
            "  Found existing installation: tensorflow-estimator 1.15.1\n",
            "    Uninstalling tensorflow-estimator-1.15.1:\n",
            "      Successfully uninstalled tensorflow-estimator-1.15.1\n",
            "  Found existing installation: tensorflow 1.15.0\n",
            "    Uninstalling tensorflow-1.15.0:\n",
            "      Successfully uninstalled tensorflow-1.15.0\n",
            "Successfully installed google-auth-1.6.3 tensorboard-2.0.1 tensorflow-2.0.0 tensorflow-estimator-2.0.1\n"
          ],
          "name": "stdout"
        },
        {
          "output_type": "display_data",
          "data": {
            "application/vnd.colab-display-data+json": {
              "pip_warning": {
                "packages": [
                  "google"
                ]
              }
            }
          },
          "metadata": {
            "tags": []
          }
        }
      ]
    },
    {
      "cell_type": "code",
      "metadata": {
        "id": "tUuIB3wgm6AR",
        "colab_type": "code",
        "colab": {}
      },
      "source": [
        "import tensorflow as tf\n",
        "import tensorflow.keras as keras\n",
        "import tensorflow.keras.layers as layers\n",
        "import numpy as np\n",
        "import os\n",
        "\n",
        "# Tensorflow 2.0 Eager execution \n",
        "# mnist\n",
        "\n",
        "class Trainer(object):\n",
        "  def __init__(self, inputs, outputs):\n",
        "    self.loss = tf.keras.losses.SparseCategoricalCrossentropy()\n",
        "    self.accuracy = tf.keras.metrics.SparseCategoricalAccuracy()\n",
        "    self.optimizer = tf.keras.optimizers.Adam()\n",
        "    self.model_path = './my_model'\n",
        "    self.create_model(inputs, outputs)\n",
        "    self.checkpoint_prefix = os.path.join(self.model_path, \"ckpt\")\n",
        "    self.ckptroot = tf.train.Checkpoint(optimizer=self.optimizer, model=self.model)\n",
        "\n",
        "  def create_model(self, inputs, outputs):\n",
        "    inputs_ = layers.Input((inputs,))\n",
        "    x = layers.Dense(128, activation=\"relu\")(inputs_)\n",
        "    x = layers.Dense(64, activation=\"relu\")(x)\n",
        "    x = layers.Dense(outputs, activation=\"softmax\")(x)\n",
        "    self.model = tf.keras.models.Model(inputs_, x)\n",
        "    return self.model\n",
        "\n",
        "  @tf.function\n",
        "  def train_on_batch(self, X, y):\n",
        "    with tf.GradientTape() as tape:\n",
        "      prediction = self.model(X, training=True)\n",
        "      loss = self.loss(y, prediction)\n",
        "    graidents = tape.gradient(loss, self.model.trainable_weights)\n",
        "    self.optimizer.apply_gradients(zip(graidents, self.model.trainable_weights))\n",
        "    self.accuracy.update_state(y, prediction)\n",
        "    return loss\n",
        "\n",
        "  def train(self, trainset, epochs):\n",
        "    for epoch in range(epochs):\n",
        "      self.accuracy.reset_states()\n",
        "      for step, (X, y) in enumerate(trainset):\n",
        "        loss_val = self.train_on_batch(X, y)\n",
        "        if step % 100 == 0:\n",
        "          print(\"epoch = {} step = {} loss = {} accuracy = {}\".format(epoch, step, loss_val, self.accuracy.result()))\n",
        "\n",
        "  def save(self):\n",
        "    self.ckptroot.save(self.checkpoint_prefix)\n",
        "  \n",
        "  def load(self):\n",
        "    self.ckptroot.restore(tf.train.latest_checkpoint(self.model_path))\n"
      ],
      "execution_count": 0,
      "outputs": []
    },
    {
      "cell_type": "code",
      "metadata": {
        "id": "uXEXWoqDtNJ8",
        "colab_type": "code",
        "colab": {
          "base_uri": "https://localhost:8080/",
          "height": 442
        },
        "outputId": "95fcb20e-259d-47f8-f0a0-e32ac7ccca48"
      },
      "source": [
        "(x_train, y_train), (x_test, y_test) = tf.keras.datasets.mnist.load_data()\n",
        "x_train = x_train.astype(np.float32).reshape(-1, 784) / 255.0\n",
        "x_test = x_test.astype(np.float32).reshape(-1, 784) / 255.0\n",
        "\n",
        "train_dataset = tf.data.Dataset.from_tensor_slices((X_train, y_train))\n",
        "train_dataset = train_dataset.shuffle(buffer_size=1024).batch(128)\n",
        "test_dataset = tf.data.Dataset.from_tensor_slices((x_test, y_test))\n",
        "testset = testset.batch(128)\n",
        "\n",
        "trainer = Trainer(inputs=784, outputs=10)\n",
        "trainer.train(train_dataset, 5)"
      ],
      "execution_count": 25,
      "outputs": [
        {
          "output_type": "stream",
          "text": [
            "epoch = 0 step = 0 loss = 2.2954516410827637 accuracy = 0.1484375\n",
            "epoch = 0 step = 100 loss = 0.2853879928588867 accuracy = 0.8150526285171509\n",
            "epoch = 0 step = 200 loss = 0.316416472196579 accuracy = 0.8652829527854919\n",
            "epoch = 0 step = 300 loss = 0.29787296056747437 accuracy = 0.8870950937271118\n",
            "epoch = 0 step = 400 loss = 0.2507220208644867 accuracy = 0.899937629699707\n",
            "epoch = 1 step = 0 loss = 0.28524553775787354 accuracy = 0.9140625\n",
            "epoch = 1 step = 100 loss = 0.1237095296382904 accuracy = 0.9544399976730347\n",
            "epoch = 1 step = 200 loss = 0.08728910982608795 accuracy = 0.9564676880836487\n",
            "epoch = 1 step = 300 loss = 0.12159090489149094 accuracy = 0.9577450156211853\n",
            "epoch = 1 step = 400 loss = 0.18677344918251038 accuracy = 0.9580151438713074\n",
            "epoch = 2 step = 0 loss = 0.050243254750967026 accuracy = 0.984375\n",
            "epoch = 2 step = 100 loss = 0.05707978457212448 accuracy = 0.9693688154220581\n",
            "epoch = 2 step = 200 loss = 0.1748427450656891 accuracy = 0.9708099961280823\n",
            "epoch = 2 step = 300 loss = 0.06356002390384674 accuracy = 0.971163809299469\n",
            "epoch = 2 step = 400 loss = 0.1394553780555725 accuracy = 0.9709515571594238\n",
            "epoch = 3 step = 0 loss = 0.11740539968013763 accuracy = 0.9765625\n",
            "epoch = 3 step = 100 loss = 0.04575493559241295 accuracy = 0.9765625\n",
            "epoch = 3 step = 200 loss = 0.13163749873638153 accuracy = 0.9771066308021545\n",
            "epoch = 3 step = 300 loss = 0.13568776845932007 accuracy = 0.9776006937026978\n",
            "epoch = 3 step = 400 loss = 0.039977818727493286 accuracy = 0.9768547415733337\n",
            "epoch = 4 step = 0 loss = 0.15723735094070435 accuracy = 0.9453125\n",
            "epoch = 4 step = 100 loss = 0.05166729539632797 accuracy = 0.984684407711029\n",
            "epoch = 4 step = 200 loss = 0.030858546495437622 accuracy = 0.9841806888580322\n",
            "epoch = 4 step = 300 loss = 0.04573551565408707 accuracy = 0.983700156211853\n",
            "epoch = 4 step = 400 loss = 0.040300868451595306 accuracy = 0.9833424091339111\n"
          ],
          "name": "stdout"
        }
      ]
    },
    {
      "cell_type": "code",
      "metadata": {
        "id": "5e2Av56inGhw",
        "colab_type": "code",
        "colab": {
          "base_uri": "https://localhost:8080/",
          "height": 283
        },
        "outputId": "0810fcc2-144c-4d0e-f8f6-cfd623cb12ea"
      },
      "source": [
        "import matplotlib.pyplot as plt\n",
        "\n",
        "def plt_mnist(x, y, plt_num=5):\n",
        "  plt.figure(figsize=(20,4))\n",
        "  for index, (image, label) in enumerate(zip(x[0:plt_num], y[0:plt_num])):\n",
        "    plt.subplot(1, 5, index + 1)\n",
        "    plt.imshow(np.reshape(image, (28,28)), cmap=plt.cm.gray)\n",
        "    plt.title('{}: label: {}\\n'.format('Predict', label), fontsize = 20)\n",
        "\n",
        "\n",
        "predict_ = trainer.model.predict(x_test)\n",
        "predict = [tf.argmax(e).numpy() for e in predict_]\n",
        "plot_mnist(x_test, predict)"
      ],
      "execution_count": 21,
      "outputs": [
        {
          "output_type": "display_data",
          "data": {
            "image/png": "[encoded data removed]",
            "text/plain": [
              "<Figure size 1440x288 with 5 Axes>"
            ]
          },
          "metadata": {
            "tags": []
          }
        }
      ]
    }
  ]
}